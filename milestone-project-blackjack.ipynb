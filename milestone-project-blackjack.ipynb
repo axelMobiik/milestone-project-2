{
 "cells": [
  {
   "cell_type": "markdown",
   "id": "9dda9f72-c22c-4ec6-a294-76431edc0d2c",
   "metadata": {},
   "source": [
    "<h1>BlackJack</h1>"
   ]
  },
  {
   "cell_type": "markdown",
   "id": "f76f8eb2-9354-466b-b054-51f5b5ff644e",
   "metadata": {},
   "source": [
    "<h3>Step 1: Import the random module.</h3>\n",
    "This will be used to shuffle the deck prior to dealing. Then, declare variables to store suits, ranks and values. You can develop your own system, or copy ours below. Finally, declare a Boolean value to be used to control while loops. This is a common practice used to control the flow of the game."
   ]
  },
  {
   "cell_type": "code",
   "execution_count": 27,
   "id": "0bce5b03-5263-4826-8349-ff230c567eec",
   "metadata": {},
   "outputs": [],
   "source": [
    "import random\n",
    "\n",
    "suits = ('Hearts', 'Diamonds', 'Spades', 'Clubs')\n",
    "ranks = ('Two', 'Three', 'Four', 'Five', 'Six', 'Seven', 'Eight', 'Nine', 'Ten', 'Jack', 'Queen', 'King', 'Ace')\n",
    "values = {'Two':2, 'Three':3, 'Four':4, 'Five':5, 'Six':6, 'Seven':7, 'Eight':8, 'Nine':9, 'Ten':10, 'Jack':10,\n",
    "         'Queen':10, 'King':10, 'Ace':11}\n",
    "\n",
    "playing = True"
   ]
  },
  {
   "cell_type": "markdown",
   "id": "310eab00-61c8-4e43-b077-e61a88e10d9b",
   "metadata": {},
   "source": [
    "<h2>Class Definitions</h2>\r\n",
    "Consider making a Card class where each Card object has a suit and a rank, then a Deck class to hold all 52 Card objects, and can be shuffled, and finally a Hand class that holds those Cards that have been dealt to each player from the Deck.\n",
    "<h3>Step 2: Create a Card Class</h3>\r\n",
    "A Card object really only needs two attributes: suit and rank. You might add an attribute for \"value\" - we chose to handle value later when developing our Hand class.\r\n",
    "In addition to the Card's __init__ method, consider adding a __str__ method that, when asked to print a Card, returns a string in the form \"Two of Hearts"
   ]
  },
  {
   "cell_type": "code",
   "execution_count": 28,
   "id": "89716a29-9b4d-48de-a319-3eb067bef668",
   "metadata": {},
   "outputs": [],
   "source": [
    "class Card:\n",
    "    def __init__(self, suits, rank):\n",
    "        self.suits = suits\n",
    "        self.rank = rank\n",
    "\n",
    "    def __str__(self):\n",
    "        return self.rank + \" of \" + self.suits"
   ]
  },
  {
   "cell_type": "markdown",
   "id": "df9fb8c8-d7b8-4b93-bb81-03562235ee76",
   "metadata": {},
   "source": [
    "<h3>Step 3: Create a Deck Class</h3>\r\n",
    "Here we might store 52 card objects in a list that can later be shuffled. First, though, we need to instantiate all 52 unique card objects and add them to our list. So long as the Card class definition appears in our code, we can build Card objects inside our Deck __init__ method. Consider iterating over sequences of suits and ranks to build out each card. This might appear inside a Deck class __init__ method:\r\n",
    "\r\n",
    "for suit in suits:\r\n",
    "    for rank in ranks:\r\n",
    "In addition to an __init__ method we'll want to add methods to shuffle our deck, and to deal out cards during gameplay.\r\n",
    "\r\n",
    "OPTIONAL: We may never need to print the contents of the deck during gameplay, but having the ability to see the cards inside it may help troubleshoot any problems that occur during development. With this in mind, consider adding a __str__ method to the class definition."
   ]
  },
  {
   "cell_type": "code",
   "execution_count": 29,
   "id": "2c5886a2-79dd-435c-ba22-a3154429567b",
   "metadata": {},
   "outputs": [],
   "source": [
    "class Deck:\n",
    "    def __init__(self):\n",
    "        self.deck = []    # Start with an empty list\n",
    "        for suit in suits:\n",
    "            for rank in ranks:\n",
    "                self.deck.append(Card(suit, rank))\n",
    "\n",
    "    def __str__(self):\n",
    "        deck_comp = ''\n",
    "        for card in self.deck:\n",
    "            deck_comp += '\\n' + card.__str__()\n",
    "        return \"The deck has: \" + deck_comp\n",
    "\n",
    "    def shuffle(self):\n",
    "        random.shuffle(self.deck)\n",
    "\n",
    "    def deal(self):\n",
    "        single_card = self.deck.pop()\n",
    "        return single_card"
   ]
  },
  {
   "cell_type": "code",
   "execution_count": 30,
   "id": "9bc1cb03-51eb-401c-90be-76fbbb4d2d24",
   "metadata": {},
   "outputs": [
    {
     "name": "stdout",
     "output_type": "stream",
     "text": [
      "The deck has: \n",
      "Six of Spades\n",
      "Seven of Clubs\n",
      "Eight of Clubs\n",
      "Two of Hearts\n",
      "Eight of Diamonds\n",
      "Four of Spades\n",
      "Seven of Diamonds\n",
      "Jack of Clubs\n",
      "Three of Clubs\n",
      "Nine of Hearts\n",
      "Seven of Hearts\n",
      "Nine of Diamonds\n",
      "Eight of Spades\n",
      "Ace of Hearts\n",
      "Four of Hearts\n",
      "Ace of Diamonds\n",
      "Six of Diamonds\n",
      "Five of Hearts\n",
      "Ten of Clubs\n",
      "Eight of Hearts\n",
      "Four of Diamonds\n",
      "Ten of Spades\n",
      "Two of Diamonds\n",
      "Six of Clubs\n",
      "Ten of Diamonds\n",
      "Queen of Hearts\n",
      "Three of Diamonds\n",
      "Five of Diamonds\n",
      "Queen of Diamonds\n",
      "King of Spades\n",
      "King of Diamonds\n",
      "Seven of Spades\n",
      "Four of Clubs\n",
      "King of Hearts\n",
      "Ace of Clubs\n",
      "Nine of Clubs\n",
      "Jack of Hearts\n",
      "Ten of Hearts\n",
      "Ace of Spades\n",
      "Nine of Spades\n",
      "Three of Spades\n",
      "King of Clubs\n",
      "Queen of Clubs\n",
      "Queen of Spades\n",
      "Five of Spades\n",
      "Jack of Diamonds\n",
      "Two of Spades\n",
      "Three of Hearts\n",
      "Five of Clubs\n",
      "Jack of Spades\n",
      "Six of Hearts\n",
      "Two of Clubs\n"
     ]
    }
   ],
   "source": [
    "test_deck = Deck()\n",
    "test_deck.shuffle()\n",
    "print(test_deck)"
   ]
  },
  {
   "cell_type": "markdown",
   "id": "0b01cfb9-aa29-4dc4-aecc-587dc454ddda",
   "metadata": {},
   "source": [
    "<h3>Step 4: Create a Hand Class</h3>\r\n",
    "In addition to holding Card objects dealt from the Deck, the Hand class may be used to calculate the value of those cards using the values dictionary defined above. It may also need to adjust for the value of Aces when appropriate."
   ]
  },
  {
   "cell_type": "code",
   "execution_count": 31,
   "id": "5c7520fd-dc17-4cd4-86ab-0453de7a6e70",
   "metadata": {},
   "outputs": [],
   "source": [
    "class Hand:\n",
    "    def __init__(self):\n",
    "        self.cards = []  # Start with an empty list as we did in the Deck class\n",
    "        self.value = 0   # Start with zero value\n",
    "        self.aces = 0    # Add an attribute to keep track of aces\n",
    "\n",
    "    def add_card(self, card):\n",
    "        # The card passed in\n",
    "        # from Deck.deal() --> single Card(suit, rank)\n",
    "        self.cards.append(card)\n",
    "        self.value += values[card.rank]\n",
    "\n",
    "        # track aces\n",
    "        if card.rank == 'Ace':\n",
    "            self.aces += 1\n",
    "\n",
    "    def adjust_for_ace(self):\n",
    "        # IF total value > 21 and i still have an ace\n",
    "        # than change my ace to be a 1 instead of an 11\n",
    "        while self.value > 21 and self.aces > 0:\n",
    "            self.value -= 10\n",
    "            self.aces -= 1"
   ]
  },
  {
   "cell_type": "code",
   "execution_count": 32,
   "id": "9b611717-c897-42b1-b9b0-db28d1cdbffc",
   "metadata": {},
   "outputs": [
    {
     "name": "stdout",
     "output_type": "stream",
     "text": [
      "Jack of Spades\n",
      "10\n"
     ]
    }
   ],
   "source": [
    "test_deck = Deck()\n",
    "test_deck.shuffle()\n",
    "\n",
    "# Player\n",
    "test_player = Hand()\n",
    "# Deal 1 card from the deck Card(suit, rank)\n",
    "pulled_card = test_deck.deal()\n",
    "print(pulled_card)\n",
    "test_player.add_card(pulled_card)\n",
    "print(test_player.value)"
   ]
  },
  {
   "cell_type": "code",
   "execution_count": 33,
   "id": "5e3f84f4-012f-4ede-9c25-a66e8de9b7fc",
   "metadata": {},
   "outputs": [],
   "source": [
    "test_player.add_card(test_deck.deal())"
   ]
  },
  {
   "cell_type": "code",
   "execution_count": 34,
   "id": "27fa7953-a4cb-46f2-a3ae-7d01c1e9a0fe",
   "metadata": {},
   "outputs": [
    {
     "data": {
      "text/plain": [
       "18"
      ]
     },
     "execution_count": 34,
     "metadata": {},
     "output_type": "execute_result"
    }
   ],
   "source": [
    "test_player.value"
   ]
  },
  {
   "cell_type": "markdown",
   "id": "19d3fd6b-e508-4d75-8ec5-b2762efbc6de",
   "metadata": {},
   "source": [
    "<h3>Step 5: Create a Chips Class</h3>\r\n",
    "In addition to decks of cards and hands, we need to keep track of a Player's starting chips, bets, and ongoing winnings. This could be done using global variables, but in the spirit of object oriented programming, let's make a Chips class instead!"
   ]
  },
  {
   "cell_type": "code",
   "execution_count": 35,
   "id": "d795bcb7-f241-411c-b2c9-4c524b6dfe31",
   "metadata": {},
   "outputs": [],
   "source": [
    "class Chips:\n",
    "    def __init__(self, total=100):\n",
    "        self.total = 100    # This can be set to a default value or supplied by a user input\n",
    "        self.bet = 0\n",
    "\n",
    "    def win_bet(self):\n",
    "        self.total += self.bet\n",
    "\n",
    "    def lose_bet(self):\n",
    "        self.total -= self.bet"
   ]
  },
  {
   "cell_type": "markdown",
   "id": "547876bc-5ebc-446d-92e6-d38034c28bc4",
   "metadata": {},
   "source": [
    "<h2>Function Defintions</h2>\r\n",
    "A lot of steps are going to be repetitive. That's where functions come in! The following steps are guidelines - add or remove functions as needed in your own program.\n",
    "<h3>Step 6: Write a function for taking bets</h3>\r\n",
    "Since we're asking the user for an integer value, this would be a good place to use try/except. Remember to check that a Player's bet can be covered by their available chips.ips."
   ]
  },
  {
   "cell_type": "code",
   "execution_count": 36,
   "id": "69e4c07e-4d72-48dc-8615-5590d89106ed",
   "metadata": {},
   "outputs": [],
   "source": [
    "def take_bet(chips):\n",
    "    while True:\n",
    "        try:\n",
    "            chips.bet = int(input('How many chips would you like to bet?'))\n",
    "        except:\n",
    "            print('Sorry please provide an integer')\n",
    "        else:\n",
    "            if chips.bet > chips.total:\n",
    "                print(f'Sorry, you do not have enough chips! You have: {chips.total}')\n",
    "            else:\n",
    "                break"
   ]
  },
  {
   "cell_type": "markdown",
   "id": "e6b1b4b7-5342-4068-a73c-4d7a94e793fa",
   "metadata": {},
   "source": [
    "<h3>Step 7: Write a function for taking hits</h3>\r\n",
    "Either player can take hits until they bust. This function will be called during gameplay anytime a Player requests a hit, or a Dealer's hand is less than 17. It should take in Deck and Hand objects as arguments, and deal one card off the deck and add it to the Hand. You may want it to check for aces in the event that a player's hand exceeds 21."
   ]
  },
  {
   "cell_type": "code",
   "execution_count": 37,
   "id": "3080a13c-3af0-451d-a819-9d13e653e60d",
   "metadata": {},
   "outputs": [],
   "source": [
    "def hit(deck, hand):\n",
    "    single_card = deck.deal()\n",
    "    hand.add_card(single_card)\n",
    "    hand.adjust_for_ace()"
   ]
  },
  {
   "cell_type": "markdown",
   "id": "420911aa-e40d-4a85-bbd3-ed614de2cd99",
   "metadata": {},
   "source": [
    "<h3>Step 8: Write a function prompting the Player to Hit or Stand</h3>\r\n",
    "This function should accept the deck and the player's hand as arguments, and assign playing as a global variable.\r\n",
    "If the Player Hits, employ the hit() function above. If the Player Stands, set the playing variable to False - this will control the behavior of a while loop later on in our code"
   ]
  },
  {
   "cell_type": "code",
   "execution_count": 38,
   "id": "c0b830da-11dd-4896-9a49-3dfc172bcf9b",
   "metadata": {},
   "outputs": [],
   "source": [
    "def hit_or_stand(deck, hand):\n",
    "    global playing\n",
    "\n",
    "    while True:\n",
    "        x = input('Hit or Stand? Enter h or s ')\n",
    "\n",
    "        if x[0].lower() == 'h':\n",
    "            hit(deck, hand)\n",
    "        elif x[0].lower() == 's':\n",
    "            print(\"Player Stands Dealer's Turn\")\n",
    "            playing = False\n",
    "        else:\n",
    "            print('Sorry, I did no understand that, please enter h or s only! ')\n",
    "            continue\n",
    "        break"
   ]
  },
  {
   "cell_type": "markdown",
   "id": "150df4d3-0e7a-4029-9088-4359945d8ff1",
   "metadata": {},
   "source": [
    "<h3>Step 9: Write functions to display cards</h3>\r\n",
    "When the game starts, and after each time Player takes a card, the dealer's first card is hidden and all of Player's cards are visible. At the end of the hand all cards are shown, and you may want to show each hand's total value. Write a function for each of these scenarios"
   ]
  },
  {
   "cell_type": "code",
   "execution_count": 39,
   "id": "dccad83f-6cac-4e31-a382-632d94f0dbdf",
   "metadata": {},
   "outputs": [],
   "source": [
    "def show_some(player, dealer):\n",
    "    # dealer.cards[0] \n",
    "    \n",
    "    # Show only one of the dealer's cards\n",
    "    print(\"\\nDealer's hand: \")\n",
    "    print(\"First card hidden!\")\n",
    "    print(dealer.cards[1])\n",
    "    \n",
    "    # Show all (2 cards) of the player's hand\n",
    "    print(\"\\nPlayer's hand: \")\n",
    "    for card in player.cards:\n",
    "        print(card)\n",
    "    \n",
    "def show_all(player, dealer):\n",
    "    # Show all the dealer's cards\n",
    "    print(\"\\nDealer's hand: \")\n",
    "    for card in dealer.cards:\n",
    "        print(card)\n",
    "\n",
    "    print(\"\\nDealer's hand: \", *dealer.cards, sep='\\n')\n",
    "\n",
    "    # Calculate and display value (J+K == 20)\n",
    "    print(f\"Value of dealer's hand is: {dealer.value}\")\n",
    "\n",
    "    # Show all the players cards\n",
    "    print(\"\\nPlayer's hand: \")\n",
    "    for card in player.cards:\n",
    "        print(card)\n",
    "    print(f\"Value of player's hand is: {player.value}\")"
   ]
  },
  {
   "cell_type": "markdown",
   "id": "10d6099b-9ae9-45e0-8dda-73684d2a8bda",
   "metadata": {},
   "source": [
    "<h3>Step 10: Write functions to handle end of game scenarios</h3>\r\n",
    "Remember to pass player's hand, dealer's hand and chips as needed"
   ]
  },
  {
   "cell_type": "code",
   "execution_count": 40,
   "id": "97933d87-f84f-48b1-9e88-5b1c2206fbe7",
   "metadata": {},
   "outputs": [],
   "source": [
    "def player_busts(player, dealer, chips):\n",
    "    print('BUST PLAYER!')\n",
    "    chips.lose_bet()\n",
    "\n",
    "def player_wins(player, dealer, chips):\n",
    "    print('PLAYER WINS!')\n",
    "    chips.win_bet()\n",
    "\n",
    "def dealer_busts(player, dealer, chips):\n",
    "    print('PLAYER WINS!, DEALER BUSTED!')\n",
    "    chips.win_bet()\n",
    "\n",
    "def dealer_wins(player, dealer, chips):\n",
    "    print('DEALER WINS!!')\n",
    "    chips.lose_bet()\n",
    "\n",
    "\n",
    "def push(player, dealer):\n",
    "    print('Dealer and player tie! Push!')"
   ]
  },
  {
   "cell_type": "markdown",
   "id": "464063d9-6232-4be6-88f0-e8b2153a91b2",
   "metadata": {},
   "source": [
    "<h2>And now on to the game!!</h2>"
   ]
  },
  {
   "cell_type": "code",
   "execution_count": 41,
   "id": "545fd6ff-a1be-4cae-9a25-ec172f9570a8",
   "metadata": {},
   "outputs": [
    {
     "name": "stdout",
     "output_type": "stream",
     "text": [
      "WELCOME TO BLACKJACK\n"
     ]
    },
    {
     "name": "stdin",
     "output_type": "stream",
     "text": [
      "How many chips would you like to bet? 200\n"
     ]
    },
    {
     "name": "stdout",
     "output_type": "stream",
     "text": [
      "Sorry, you do not have enough chips! You have: 100\n"
     ]
    },
    {
     "name": "stdin",
     "output_type": "stream",
     "text": [
      "How many chips would you like to bet? 100\n"
     ]
    },
    {
     "name": "stdout",
     "output_type": "stream",
     "text": [
      "\n",
      "Dealer's hand: \n",
      "First card hidden!\n",
      "Three of Diamonds\n",
      "\n",
      "Player's hand: \n",
      "Four of Diamonds\n",
      "Five of Hearts\n"
     ]
    },
    {
     "name": "stdin",
     "output_type": "stream",
     "text": [
      "Hit or Stand? Enter h or s  h\n"
     ]
    },
    {
     "name": "stdout",
     "output_type": "stream",
     "text": [
      "\n",
      "Dealer's hand: \n",
      "First card hidden!\n",
      "Three of Diamonds\n",
      "\n",
      "Player's hand: \n",
      "Four of Diamonds\n",
      "Five of Hearts\n",
      "Six of Spades\n"
     ]
    },
    {
     "name": "stdin",
     "output_type": "stream",
     "text": [
      "Hit or Stand? Enter h or s  s\n"
     ]
    },
    {
     "name": "stdout",
     "output_type": "stream",
     "text": [
      "Player Stands Dealer's Turn\n",
      "\n",
      "Dealer's hand: \n",
      "First card hidden!\n",
      "Three of Diamonds\n",
      "\n",
      "Player's hand: \n",
      "Four of Diamonds\n",
      "Five of Hearts\n",
      "Six of Spades\n",
      "\n",
      "Dealer's hand: \n",
      "Ten of Spades\n",
      "Three of Diamonds\n",
      "Six of Diamonds\n",
      "\n",
      "Dealer's hand: \n",
      "Ten of Spades\n",
      "Three of Diamonds\n",
      "Six of Diamonds\n",
      "Value of dealer's hand is: 19\n",
      "\n",
      "Player's hand: \n",
      "Four of Diamonds\n",
      "Five of Hearts\n",
      "Six of Spades\n",
      "Value of player's hand is: 15\n",
      "DEALER WINS!!\n",
      "\n",
      "Player's total chips are at: 0\n"
     ]
    },
    {
     "name": "stdin",
     "output_type": "stream",
     "text": [
      "Would you like to play another hand? y/n n\n"
     ]
    },
    {
     "name": "stdout",
     "output_type": "stream",
     "text": [
      "Thank you for playing!\n"
     ]
    }
   ],
   "source": [
    "while True:\n",
    "    # Print an opening statement\n",
    "    print(\"WELCOME TO BLACKJACK\")\n",
    "    \n",
    "    # Create & shuffle the deck, deal two cards to each player\n",
    "    deck = Deck()\n",
    "    deck.shuffle()\n",
    "\n",
    "    player_hand = Hand()\n",
    "    player_hand.add_card(deck.deal())\n",
    "    player_hand.add_card(deck.deal())\n",
    "    \n",
    "    dealer_hand = Hand()\n",
    "    dealer_hand.add_card(deck.deal())\n",
    "    dealer_hand.add_card(deck.deal())\n",
    "    \n",
    "    # Set up the player's chips\n",
    "    player_chips = Chips()\n",
    "\n",
    "    # Prompt the player for their bet\n",
    "    take_bet(player_chips)\n",
    "    \n",
    "    # Show cards (but keep one dealer card hidden)\n",
    "    show_some(player_hand, dealer_hand)\n",
    "\n",
    "    while playing:    # Recall this variable from our hit_or_stand function\n",
    "        # Prompt for player to hit or stand\n",
    "        hit_or_stand(deck, player_hand)\n",
    "        \n",
    "        # Show cards (but keep one dealer card hidden)\n",
    "        show_some(player_hand, dealer_hand)\n",
    "        \n",
    "        # If player's hand exceeds 21, run player_busts() and break out of loop\n",
    "        if player_hand.value > 21:\n",
    "            player_busts(player_hand, dealer_hand, player_chips)\n",
    "            break\n",
    "\n",
    "    # If player hasn't busted, play Dealer's hand until Dealer reaches 17\n",
    "    if player_hand.value <= 21:\n",
    "        while dealer_hand.value <= player_hand.value:\n",
    "            hit(deck, dealer_hand)\n",
    "\n",
    "        # Show all cards\n",
    "        show_all(player_hand, dealer_hand)\n",
    "        \n",
    "        # Run different winning scenarios\n",
    "        if dealer_hand.value >= 21:\n",
    "            dealer_busts(player_hand, dealer_hand, player_chips)\n",
    "        elif dealer_hand.value > player_hand.value:\n",
    "            dealer_wins(player_hand, dealer_hand, player_chips)\n",
    "        elif dealer_hand.value < player_hand.value:\n",
    "            player_wins(player_hand, dealer_hand, player_chips)\n",
    "        else:\n",
    "            push(dealer_hand, player_hand)\n",
    "\n",
    "    # Information player of their chips total\n",
    "    print(f\"\\nPlayer's total chips are at: {player_chips.total}\")\n",
    "    \n",
    "    # Ask to play again\n",
    "    new_game = input(\"Would you like to play another hand? y/n\")\n",
    "    if new_game[0].lower() == 'y':\n",
    "        playing = True\n",
    "        continue\n",
    "    else:\n",
    "        print(\"Thank you for playing!\")\n",
    "    \n",
    "        break"
   ]
  },
  {
   "cell_type": "code",
   "execution_count": null,
   "id": "b60f9da8-bf16-46ce-9c27-f7f011c37f51",
   "metadata": {},
   "outputs": [],
   "source": []
  }
 ],
 "metadata": {
  "kernelspec": {
   "display_name": "Python 3 (ipykernel)",
   "language": "python",
   "name": "python3"
  },
  "language_info": {
   "codemirror_mode": {
    "name": "ipython",
    "version": 3
   },
   "file_extension": ".py",
   "mimetype": "text/x-python",
   "name": "python",
   "nbconvert_exporter": "python",
   "pygments_lexer": "ipython3",
   "version": "3.11.7"
  }
 },
 "nbformat": 4,
 "nbformat_minor": 5
}
