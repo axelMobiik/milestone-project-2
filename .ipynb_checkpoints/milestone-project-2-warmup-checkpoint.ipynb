{
 "cells": [
  {
   "cell_type": "markdown",
   "id": "7f730b0f-4c74-47c1-9174-f5515e7e6a2a",
   "metadata": {},
   "source": [
    "<h1>Milestone Project 2</h1>\n",
    "<li>Now that you've learned about OOP, let's test your new skills with another Milestone Project</li>\n",
    "<li>To warm-up, we will first guide you through creating a simple card game, then you will attempt the 2nd Miletone Project Excercise</li>\n",
    "<h3>Warm up project</h3>\n",
    "<li>To warm up for the 2nd Milestone Project we will recreate the card game called \"War\"</li>\n",
    "<li>The \"war\" process can be repeated in this case of back to back ties</li>\n",
    "<li>To construct this game, we will create:</li>\n",
    "<li>> Card Class</li>\n",
    "<li>> Deck Class</li>\n",
    "<li>> Player Class</li>\n",
    "<li>> Game Logic</li>"
   ]
  },
  {
   "cell_type": "code",
   "execution_count": 208,
   "id": "b3d6adb8-f0a8-4142-87b3-02c1c6342cfb",
   "metadata": {},
   "outputs": [],
   "source": [
    "import random\n",
    "\n",
    "suits = ('Hearts', 'Diamonds', 'Spades', 'Clubs')\n",
    "ranks = ('Two', 'Three', 'Four', 'Five', 'Six', 'Seven', 'Eight', 'Nine', 'Ten', 'Jack', 'Queen', 'King', 'Ace')\n",
    "values = {'Two':2, 'Three':3, 'Four':4, 'Five':5, 'Six':6, 'Seven':7, 'Eight':8, \n",
    "            'Nine':9, 'Ten':10, 'Jack':11, 'Queen':12, 'King':13, 'Ace':14}"
   ]
  },
  {
   "cell_type": "markdown",
   "id": "9f25611b-13bb-4156-958a-5a4db7f041fc",
   "metadata": {},
   "source": [
    "<h1>Card Class</h1>"
   ]
  },
  {
   "cell_type": "code",
   "execution_count": 209,
   "id": "7d0dc478-3ff7-4a51-80d9-52f26c0aeda7",
   "metadata": {},
   "outputs": [],
   "source": [
    "class Card:\n",
    "    def __init__(self, suit, rank):\n",
    "        self.suit = suit\n",
    "        self.rank = rank\n",
    "        self.value = values[rank]\n",
    "\n",
    "    def __str__(self):\n",
    "        return self.rank + \" of \" + self.suit"
   ]
  },
  {
   "cell_type": "code",
   "execution_count": 210,
   "id": "1255e2f9-d0ed-4515-8a3f-651e8e53ea6e",
   "metadata": {},
   "outputs": [],
   "source": [
    "three_of_clubs = Card(\"Clubs\", \"Three\")"
   ]
  },
  {
   "cell_type": "code",
   "execution_count": 211,
   "id": "ad90b0a4-f829-408e-aa53-7776cf424379",
   "metadata": {},
   "outputs": [
    {
     "data": {
      "text/plain": [
       "'Clubs'"
      ]
     },
     "execution_count": 211,
     "metadata": {},
     "output_type": "execute_result"
    }
   ],
   "source": [
    "three_of_clubs.suit"
   ]
  },
  {
   "cell_type": "code",
   "execution_count": 212,
   "id": "cede2d32-0ada-457a-843b-570347260646",
   "metadata": {},
   "outputs": [
    {
     "data": {
      "text/plain": [
       "'Three'"
      ]
     },
     "execution_count": 212,
     "metadata": {},
     "output_type": "execute_result"
    }
   ],
   "source": [
    "three_of_clubs.rank"
   ]
  },
  {
   "cell_type": "code",
   "execution_count": 213,
   "id": "bda51161-e332-4d26-acce-243d7b8f99a8",
   "metadata": {},
   "outputs": [
    {
     "data": {
      "text/plain": [
       "3"
      ]
     },
     "execution_count": 213,
     "metadata": {},
     "output_type": "execute_result"
    }
   ],
   "source": [
    "values[three_of_clubs.rank]"
   ]
  },
  {
   "cell_type": "code",
   "execution_count": 214,
   "id": "2fec5339-2fc9-4009-8597-55a050878aba",
   "metadata": {},
   "outputs": [
    {
     "data": {
      "text/plain": [
       "3"
      ]
     },
     "execution_count": 214,
     "metadata": {},
     "output_type": "execute_result"
    }
   ],
   "source": [
    "three_of_clubs.value"
   ]
  },
  {
   "cell_type": "code",
   "execution_count": 215,
   "id": "28d3ab7f-5271-4729-8720-ecbebf6abae6",
   "metadata": {},
   "outputs": [],
   "source": [
    "two_hearts = Card(\"Hearts\", \"Two\")"
   ]
  },
  {
   "cell_type": "code",
   "execution_count": 216,
   "id": "aac9a86c-7038-4870-9dbf-1760718ff092",
   "metadata": {},
   "outputs": [
    {
     "data": {
      "text/plain": [
       "True"
      ]
     },
     "execution_count": 216,
     "metadata": {},
     "output_type": "execute_result"
    }
   ],
   "source": [
    "two_hearts.value < three_of_clubs.value"
   ]
  },
  {
   "cell_type": "markdown",
   "id": "37ca777d-a8cd-467b-b07e-4d3be3f2bcea",
   "metadata": {},
   "source": [
    "<h1>Deck Class</h1>\n",
    "<li>Instantiate a new deck</li>\n",
    "<li>> Create all 52 Card objects</li>\n",
    "<li>> Hold as a list of Card objects</li>\n",
    "<li>Shuffle a Deck through a method call</li>\n",
    "<li>> Random library shuffle() function</li>\n",
    "<li>Deal cards from the Deck object</li>\n",
    "<li>> Pop method from cards list</li>\n",
    "<li>> We will see that the Dock class holds a list of Card objects</li>\n",
    "<li>> This means the Deck class will return Card class object instances, not just normal python data types</li>"
   ]
  },
  {
   "cell_type": "code",
   "execution_count": 217,
   "id": "bb40d667-4156-4616-a2db-e3234738143f",
   "metadata": {},
   "outputs": [],
   "source": [
    "class Deck:\n",
    "    def __init__(self):\n",
    "        self.all_cards = []\n",
    "\n",
    "        for suit in suits:\n",
    "            for rank in ranks:\n",
    "                created_card = Card(suit, rank)\n",
    "                self.all_cards.append(created_card)\n",
    "\n",
    "    def shuffle(self):\n",
    "        random.shuffle(self.all_cards)\n",
    "\n",
    "    def deal_one(self):\n",
    "        return self.all_cards.pop()"
   ]
  },
  {
   "cell_type": "code",
   "execution_count": 218,
   "id": "8ec4b89a-2dd5-4f5a-bc77-1c43c6833b0d",
   "metadata": {},
   "outputs": [],
   "source": [
    "new_deck = Deck()"
   ]
  },
  {
   "cell_type": "code",
   "execution_count": 219,
   "id": "15340459-c4b4-4559-968d-e236ce0e94e3",
   "metadata": {},
   "outputs": [],
   "source": [
    "new_deck.shuffle()"
   ]
  },
  {
   "cell_type": "code",
   "execution_count": 220,
   "id": "e940714c-f5c3-4dc2-bdfb-0cac462cc5eb",
   "metadata": {},
   "outputs": [],
   "source": [
    "mycard = new_deck.deal_one()"
   ]
  },
  {
   "cell_type": "code",
   "execution_count": 221,
   "id": "83871da7-2aae-4e41-9a48-fe09590cf96d",
   "metadata": {},
   "outputs": [
    {
     "name": "stdout",
     "output_type": "stream",
     "text": [
      "Ten of Diamonds\n"
     ]
    }
   ],
   "source": [
    "print(mycard)"
   ]
  },
  {
   "cell_type": "code",
   "execution_count": 222,
   "id": "6f40cfde-08c5-4158-a9dc-cdb64c476e83",
   "metadata": {},
   "outputs": [
    {
     "data": {
      "text/plain": [
       "51"
      ]
     },
     "execution_count": 222,
     "metadata": {},
     "output_type": "execute_result"
    }
   ],
   "source": [
    "len(new_deck.all_cards)"
   ]
  },
  {
   "cell_type": "markdown",
   "id": "57266744-e72b-4515-a170-283c28f72dbc",
   "metadata": {},
   "source": [
    "<h1>Player Class</h1>\n",
    "<li>This class will be used to hold a payer's current list of cards</li>\n",
    "<li>A player should be able to add or remove cards from their \"hand\" (list of Card objects)</li>\n",
    "<li>We will want the player to be able to add a single card or multiple cards to their list, so we will also explore how to do this in one method call</li>\n",
    "<li>The last thing we need to think about ir translating a Deck/Hand of cards with a top and bottom, to a Python list</li>"
   ]
  },
  {
   "cell_type": "code",
   "execution_count": 223,
   "id": "371340d3-1f0c-446f-bc1b-51d51e6effea",
   "metadata": {},
   "outputs": [],
   "source": [
    "class Player:\n",
    "    def __init__(self, name):\n",
    "        self.name = name\n",
    "        self.all_cards = []\n",
    "\n",
    "    def remove_one(self):\n",
    "        return self.all_cards.pop(0)\n",
    "\n",
    "    def add_cards(self, new_cards):\n",
    "        if type(new_cards) == type([]):\n",
    "            self.all_cards.extend(new_cards)\n",
    "        else:\n",
    "            self.all_cards.append(new_cards)\n",
    "\n",
    "    def __str__(self):\n",
    "        return f'Player {self.name} has {len(self.all_cards)} cards.'"
   ]
  },
  {
   "cell_type": "code",
   "execution_count": 224,
   "id": "2ddaf995-877f-41a7-b19d-42a34122ec11",
   "metadata": {},
   "outputs": [],
   "source": [
    "new_player = Player('Axel')"
   ]
  },
  {
   "cell_type": "code",
   "execution_count": 225,
   "id": "aa386fca-3a68-44fa-8079-97e1efa31229",
   "metadata": {},
   "outputs": [
    {
     "name": "stdout",
     "output_type": "stream",
     "text": [
      "Player Axel has 0 cards.\n"
     ]
    }
   ],
   "source": [
    "print(new_player)"
   ]
  },
  {
   "cell_type": "code",
   "execution_count": 226,
   "id": "d0219541-9c4c-47b3-b187-f747691133d9",
   "metadata": {},
   "outputs": [],
   "source": [
    "new_player.add_cards(mycard)"
   ]
  },
  {
   "cell_type": "code",
   "execution_count": 227,
   "id": "98e8fbb2-661b-40cf-8aac-163febd4f0cd",
   "metadata": {},
   "outputs": [
    {
     "name": "stdout",
     "output_type": "stream",
     "text": [
      "Ten of Diamonds\n"
     ]
    }
   ],
   "source": [
    "print(new_player.all_cards[0])"
   ]
  },
  {
   "cell_type": "code",
   "execution_count": 228,
   "id": "5a5b2b91-f188-482a-b153-d8fdf301c1aa",
   "metadata": {},
   "outputs": [],
   "source": [
    "new_player.add_cards([mycard, mycard, mycard])"
   ]
  },
  {
   "cell_type": "code",
   "execution_count": 229,
   "id": "28dcc4f0-c114-40ce-8fdb-ae72338a9e8e",
   "metadata": {},
   "outputs": [
    {
     "name": "stdout",
     "output_type": "stream",
     "text": [
      "Player Axel has 4 cards.\n"
     ]
    }
   ],
   "source": [
    "print(new_player)"
   ]
  },
  {
   "cell_type": "code",
   "execution_count": 230,
   "id": "94d35f8a-0788-4ba5-9978-9b0fbe6b90e5",
   "metadata": {},
   "outputs": [
    {
     "data": {
      "text/plain": [
       "<__main__.Card at 0x2e74a3999d0>"
      ]
     },
     "execution_count": 230,
     "metadata": {},
     "output_type": "execute_result"
    }
   ],
   "source": [
    "new_player.remove_one()"
   ]
  },
  {
   "cell_type": "code",
   "execution_count": 231,
   "id": "eebb55f7-d608-45c5-9c11-5b035bea3858",
   "metadata": {},
   "outputs": [
    {
     "name": "stdout",
     "output_type": "stream",
     "text": [
      "Player Axel has 3 cards.\n"
     ]
    }
   ],
   "source": [
    "print(new_player)"
   ]
  },
  {
   "cell_type": "markdown",
   "id": "2254bb92-b0ab-4130-8852-94ac6aa840f5",
   "metadata": {},
   "source": [
    "<h1>Game Logic</h1>\n",
    "<li>Creating the overall logic is often the hardest part of a project like this!</li>\n",
    "<li>Is's important to note, that we planned the classes around the upcoming logic, so in a real-world situation, you often think of both the logic and class structures simultaneously</li>\n",
    "<li>Check the player's cards against each other</li>\n",
    "<li>There are lots of ways this can be done!</li>\n",
    "<li>We have 3 situations:</li>\n",
    "<li>> Player 1 > Player 2</li>\n",
    "<li>> Player 2 > Player 1</li>\n",
    "<li>> Player 1 == Player 2</li>"
   ]
  },
  {
   "cell_type": "code",
   "execution_count": 232,
   "id": "28f78775-c4f3-4f28-b3c4-67a5821b53ca",
   "metadata": {},
   "outputs": [],
   "source": [
    "# Game setup\n",
    "player_one = Player(\"One\")\n",
    "player_two = Player(\"Two\")\n",
    "\n",
    "new_deck = Deck()\n",
    "new_deck.shuffle()\n",
    "\n",
    "for x in range(26):\n",
    "    player_one.add_cards(new_deck.deal_one())\n",
    "    player_two.add_cards(new_deck.deal_one())"
   ]
  },
  {
   "cell_type": "code",
   "execution_count": 233,
   "id": "44946405-55af-4f7e-87b1-11a691f77592",
   "metadata": {},
   "outputs": [],
   "source": [
    "game_on = True"
   ]
  },
  {
   "cell_type": "code",
   "execution_count": 238,
   "id": "012378e2-0035-479f-ab26-02722230a2ff",
   "metadata": {},
   "outputs": [],
   "source": [
    "# While game_on\n",
    "round_num = 0\n",
    "while game_on:\n",
    "    round_num += 1\n",
    "    print(f'Round {round_num}')\n",
    "\n",
    "    if len(player_one.all_cards) == 0:\n",
    "        print('Player One, out of cards! Player Two Wins!')\n",
    "        game_on = False\n",
    "        break\n",
    "    if len(player_two.all_cards) == 0:\n",
    "        print('Player Two, out of cards! Player One Wins!')\n",
    "        game_on = False\n",
    "        break\n",
    "\n",
    "    # Start new round\n",
    "    player_one_cards = []\n",
    "    player_one_cards.append(player_one.remove_one())\n",
    "\n",
    "    player_two_cards = []\n",
    "    player_two_cards.append(player_two.remove_one())\n",
    "\n",
    "    # While at_war\n",
    "    at_war = True\n",
    "    while at_war:\n",
    "        if player_one_cards[-1].value > player_two_cards[-1].value:\n",
    "            player_one.add_cards(player_one_cards)\n",
    "            player_one.add_cards(player_two_cards)\n",
    "\n",
    "            at_war = False\n",
    "        elif player_one_cards[-1].value < player_two_cards[-1].value:\n",
    "            player_two.add_cards(player_one_cards)\n",
    "            player_two.add_cards(player_two_cards)\n",
    "\n",
    "            at_war = False\n",
    "\n",
    "        else:\n",
    "            print('WAR')\n",
    "\n",
    "            if len(player_one.all_cards) < 5:\n",
    "                print('Player One unable to declare war')\n",
    "                print('Player Two wins!')\n",
    "                game_on = False\n",
    "                break\n",
    "            \n",
    "            elif len(player_two.all_cards) < 5:\n",
    "                print('Player Two unable to declare war')\n",
    "                print('Player One wins!')\n",
    "                game_on = False\n",
    "                break\n",
    "\n",
    "            else:\n",
    "                for num in range(5):\n",
    "                    player_one_cards.append(player_one.remove_one())\n",
    "                    player_two_cards.append(player_two.remove_one())"
   ]
  },
  {
   "cell_type": "code",
   "execution_count": null,
   "id": "c7611fbb-8019-4c1e-a959-6d256efb3f44",
   "metadata": {},
   "outputs": [],
   "source": []
  }
 ],
 "metadata": {
  "kernelspec": {
   "display_name": "Python 3 (ipykernel)",
   "language": "python",
   "name": "python3"
  },
  "language_info": {
   "codemirror_mode": {
    "name": "ipython",
    "version": 3
   },
   "file_extension": ".py",
   "mimetype": "text/x-python",
   "name": "python",
   "nbconvert_exporter": "python",
   "pygments_lexer": "ipython3",
   "version": "3.11.7"
  }
 },
 "nbformat": 4,
 "nbformat_minor": 5
}
